{
 "cells": [
  {
   "cell_type": "code",
   "execution_count": null,
   "metadata": {
    "collapsed": true
   },
   "outputs": [],
   "source": [
    "from typing import Union\n",
    "from BayesNet import BayesNet\n",
    "\n",
    "\n",
    "class BNReasoner:\n",
    "    def __init__(self, net: Union[str, BayesNet]):\n",
    "        \"\"\"\n",
    "        :param net: either file path of the bayesian network in BIFXML format or BayesNet object\n",
    "        \"\"\"\n",
    "        if type(net) == str:\n",
    "            # constructs a BN object\n",
    "            self.bn = BayesNet()\n",
    "            # Loads the BN from an BIFXML file\n",
    "            self.bn.load_from_bifxml(net)\n",
    "        else:\n",
    "            self.bn = net\n",
    "    def d_separation(self):\n",
    "\n",
    "        print('hi')\n",
    "    # TODO: This is where your methods should go\n",
    "\n",
    "\n",
    "# My_reasoner = BNReasoner('C:\\Users\\Afaan\\OneDrive\\Documenten\\KR21_project2\\testing\\lecture_example.BIFXML')\n",
    "# My_reasoner = BNReasoner('C:/Users/Afaan/OneDrive/Documenten/KR21_project2/testing/lecture_example.BIFXML')\n",
    "# My_reasoner = BNReasoner()\n",
    "\n",
    "f = open('C:/Users/Afaan/OneDrive/Documenten/KR21_project2/testing/lecture_example.BIFXML', 'r')\n",
    "My_reasoner = BNReasoner(f)\n",
    "\n",
    "\n"
   ]
  }
 ],
 "metadata": {
  "kernelspec": {
   "display_name": "Python 3",
   "language": "python",
   "name": "python3"
  },
  "language_info": {
   "codemirror_mode": {
    "name": "ipython",
    "version": 2
   },
   "file_extension": ".py",
   "mimetype": "text/x-python",
   "name": "python",
   "nbconvert_exporter": "python",
   "pygments_lexer": "ipython2",
   "version": "2.7.6"
  }
 },
 "nbformat": 4,
 "nbformat_minor": 0
}